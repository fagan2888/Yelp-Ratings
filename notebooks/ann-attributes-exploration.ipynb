{
 "cells": [
  {
   "cell_type": "markdown",
   "metadata": {},
   "source": [
    "# Attributes Exploration\n",
    "\n",
    "This notebook explores the different attributes variables provided for different businesses in the Yelp business.json file. These attributes variables provide more colorful information, such as costliness, forms of accepted payment (e.g., credit card or bitcoin), and parking options, on the businesses in the Yelp dataset. The attributes are stored in a sub-dictionary within each business instance dictionary, and there are further sub-dictionaries within the attributes section. \n",
    "\n",
    "Attributes are not consistently reported for each business. Some businesses in the business.json file have many of the possible attributes variables recorded, while some have a few, one, or none."
   ]
  },
  {
   "cell_type": "code",
   "execution_count": null,
   "metadata": {},
   "outputs": [],
   "source": [
    "import json\n",
    "import yaml\n",
    "import os\n",
    "import pandas as pd\n",
    "import psycopg2\n",
    "import seaborn as sns\n",
    "%matplotlib inline\n",
    "import matplotlib.pyplot as plt\n",
    "import numpy as np\n",
    "import scipy.stats as ss\n",
    "from sklearn.preprocessing import OneHotEncoder"
   ]
  },
  {
   "cell_type": "markdown",
   "metadata": {},
   "source": [
    "### Example of attributes for a business\n",
    "\n",
    "The cell below provides an example attributes section for one business in the business.json file. Attributes itself is a sub-dictionary within the business dictionary. Some of the attributes variables, like RestaurantsReservations or HasTV, are simple key, value pairs. For these cases, the attributes variables are referred to as \"Main Keys.\"\n",
    "\n",
    "Other attributes variables, like GoodForMeal and BusinessParking are themselves sub-dictionaries within the attributes sub-dictionary and consist of multiple sub-key, sub-value pairs. For these cases, the attributes variables are referred to as \"Sub-Keys.\""
   ]
  },
  {
   "cell_type": "code",
   "execution_count": null,
   "metadata": {},
   "outputs": [],
   "source": [
    "\"attributes\":{\"RestaurantsReservations\":\"True\",\n",
    "              \"GoodForMeal\":\"{'dessert': False, 'latenight': False, 'lunch': True, 'dinner': True, 'brunch': False, 'breakfast': False}\",\n",
    "              \"BusinessParking\":\"{'garage': False, 'street': False, 'validated': False, 'lot': True, 'valet': False}\",\n",
    "              \"Caters\":\"True\",\"NoiseLevel\":\"u'loud'\",\"RestaurantsTableService\":\"True\",\"RestaurantsTakeOut\":\"True\",\n",
    "              \"RestaurantsPriceRange2\":\"2\",\"OutdoorSeating\":\"False\",\"BikeParking\":\"False\",\n",
    "              \"Ambience\":\"{'romantic': False, 'intimate': False, 'classy': False, 'hipster': False, 'divey': False, 'touristy': False, 'trendy': False, 'upscale': False, 'casual': True}\",\n",
    "              \"HasTV\":\"False\",\"WiFi\":\"u'no'\",\"GoodForKids\":\"True\",\"Alcohol\":\"u'full_bar'\",\"RestaurantsAttire\":\"u'casual'\",\n",
    "              \"RestaurantsGoodForGroups\":\"True\",\"RestaurantsDelivery\":\"False\"}"
   ]
  },
  {
   "cell_type": "markdown",
   "metadata": {},
   "source": [
    "### What is the exhaustive list of attribute variables?\n",
    "\n",
    "Because the attributes variables are recorded inconsistently, as stated above, in the business.json file, the first step in attributes exploration is to determine the exhaustive list of attributes variables recorded in the file. The code below pulls out all possible attributes variables in the business.json file and further denotes when certain attribute variables are represented as simple key, value pairs, or when they are themselves broken into sub-variables."
   ]
  },
  {
   "cell_type": "code",
   "execution_count": null,
   "metadata": {},
   "outputs": [],
   "source": [
    "#Before running code to explore the attributes variables, first specify the path as a string\n",
    "# to the business.json file on your local machine. Do not include the file name 'business.json'\n",
    "#Example: '/Users/firstname.lastname/Desktop'\n",
    "dataset_path = ''"
   ]
  },
  {
   "cell_type": "code",
   "execution_count": null,
   "metadata": {},
   "outputs": [],
   "source": [
    "data = []\n",
    "\n",
    "#Create a list titled data that contains the attributes sub-dictionary for each business\n",
    "with open(dataset_path + os.sep + 'business.json', 'r', encoding = 'utf8') as f:\n",
    "    for row in f:\n",
    "        row_dict = json.loads(row)\n",
    "        data.append(row_dict['attributes'])\n",
    "\n",
    "main_keys = set()\n",
    "\n",
    "#Iterate through every business to add attributes main keys into a set, which will contain \n",
    "#one of each main key. A set was ideal; it does not record duplicate values\n",
    "for i in range(0,len(data)):\n",
    "    if data[i] is not None:\n",
    "        for k in data[i].keys():\n",
    "            main_keys.add(k)\n",
    "\n",
    "#Prints out main keys\n",
    "print('Main Keys:\\n{}\\n'.format(main_keys))\n",
    "\n",
    "#Iterate through the set of main keys looking for all possible sub-keys among the businesses\n",
    "for x in main_keys:\n",
    "    x_keys = set()\n",
    "    for i in range(0,len(data)):\n",
    "        if data[i] is not None:\n",
    "            #This makes sure the main key  is actually recorded in the Attributes section of the business in question\n",
    "            if x in data[i].keys():\n",
    "                #This checks to see if the main key has sub-keys, which would mean that the main key's value is a dictionary\n",
    "                if type(yaml.load(data[i][x])) is dict:\n",
    "                    sub_dict = yaml.load(data[i][x])\n",
    "                    for k in sub_dict.keys():\n",
    "                        x_keys.add(k)\n",
    "\n",
    "    if len(x_keys) > 0:\n",
    "        print('{} Sub-keys:\\n{}\\n'.format(x,x_keys))\n",
    "    else:\n",
    "        print('{} has no Sub-keys\\n'.format(x))"
   ]
  },
  {
   "cell_type": "markdown",
   "metadata": {},
   "source": [
    "### The attributes variables\n",
    "\n",
    "The output from the code above should align with the results printed out after executing the code below. In total, there are 39 Main Keys with 7 of these Main Keys containing several Sub-keys. \n"
   ]
  },
  {
   "cell_type": "code",
   "execution_count": null,
   "metadata": {
    "scrolled": true
   },
   "outputs": [],
   "source": [
    "keys = [['BYOB', 'None'], ['RestaurantsCounterService', 'None'], ['GoodForMeal', 'dessert, latenight, lunch, dinner, brunch, breakfast'], ['AcceptsInsurance', 'None'], ['RestaurantsDelivery', 'None'], ['Smoking', 'None'], ['DietaryRestrictions', 'dairy-free, gluten-free, vegan, kosher, halal, soy-free, vegetarian'], ['RestaurantsPriceRange2', 'None'], ['BusinessParking', 'garage, street, validated, lot, valet'], ['OutdoorSeating', 'None'], ['GoodForKids', 'None'], ['WiFi', 'None'], ['CoatCheck', 'None'], ['BusinessAcceptsBitcoin', 'None'], ['Alcohol', 'None'], ['BestNights', 'monday, tuesday, wednesday, thursday, friday, saturday, sunday'], ['DriveThru', 'None'], ['GoodForDancing', 'None'], ['BusinessAcceptsCreditCards'], ['RestaurantsGoodForGroups', 'None'], ['RestaurantsTableService', 'None'], ['ByAppointmentOnly', 'None'], ['HasTV', 'None'], ['Corkage', 'None'], ['Caters', 'None'], ['Ambience', 'touristy, hipster, romantic, divey, intimate, trendy, upscale, classy, casual'], ['RestaurantsReservations', 'None'], ['RestaurantsAttire', 'None'], ['Open24Hours', 'None'], ['Music', 'dj, background_music, jukebox, live, video, karaoke, no_music'], ['DogsAllowed', 'None'], ['AgesAllowed', 'None'], ['NoiseLevel', 'None'], ['WheelchairAccessible', 'None'], ['RestaurantsTakeOut', 'None'], ['BYOBCorkage', 'None'], ['BikeParking', 'None'], ['HappyHour', 'None'], ['HairSpecializesIn', 'straightperms, coloring, extensions, africanamerican, curly, kids, perms, asian']]\n",
    "df1 = pd.DataFrame(keys, columns = ['Main Key', 'Sub-Keys'])\n",
    "blankIndex=[''] * len(df1)\n",
    "df1.index=blankIndex\n",
    "pd.set_option('display.max_colwidth', -1)\n",
    "df1"
   ]
  },
  {
   "cell_type": "markdown",
   "metadata": {},
   "source": [
    "### Raw attributes variables counts\n",
    "\n",
    "The next step is to count the number of times each attributes Main Key appears in the dataset. Or, in other words, to count the number of businesses for each variable that have a value for the variable-in-question recorded. The motivation for doing so is to see whether some variables appear infrequently enough to warrant their removal from consideration/analysis.\n",
    "\n",
    "Specifically, the code below counts the number of times each Main Key appears in the dataset without providing specific counts for the Sub-Keys. The reasoning is that each time a Sub-Key appears, by default, its Main Key also appears."
   ]
  },
  {
   "cell_type": "code",
   "execution_count": null,
   "metadata": {},
   "outputs": [],
   "source": [
    "main_key_count = []\n",
    "\n",
    "for x in main_keys:\n",
    "    k = 0\n",
    "    for i in range(0,len(data)):\n",
    "        if data[i] is not None and x in data[i].keys():\n",
    "            k += 1\n",
    "    main_key_count.append([x,k])\n",
    "    print('The {} Main Key appears {} times in the data\\n'.format(x,k))"
   ]
  },
  {
   "cell_type": "code",
   "execution_count": null,
   "metadata": {},
   "outputs": [],
   "source": [
    "df2 = pd.DataFrame(main_key_count, columns = ['Main Key', 'Count'])\n",
    "df3 = pd.merge(df1, df2, on=\"Main Key\")\n",
    "pd.set_option('display.max_colwidth', -1)\n",
    "df3"
   ]
  },
  {
   "cell_type": "markdown",
   "metadata": {},
   "source": [
    "The code and output below highlights cells whose count is less than 5000. These attributes variables were deemed too \"sparse\" for analysis and eventual inclusion in models, so they were removed from consideration."
   ]
  },
  {
   "cell_type": "code",
   "execution_count": null,
   "metadata": {},
   "outputs": [],
   "source": [
    "df3.style.apply(lambda x: [\"background-color: #ff33aa\" \n",
    "                          if (i >= 2 and v < 5000) \n",
    "                          else \"\" for i, v in enumerate(x)], axis = 1)"
   ]
  },
  {
   "cell_type": "markdown",
   "metadata": {},
   "source": [
    "Removing the attributes variables above who are recorded less than 5000 times in the dataset leaves 26 Main Key attributes variables. However, this does not reflect the actual number of variables under consideration, as several of these Main Key variables consist of sub-keys, or sub-variables. Removing the Main Key attribute variables with sub-variables and replacing them with their sub-variables leaves 49 attributes variables for consideration. These 49 variables were ultimately ingested into our database."
   ]
  },
  {
   "cell_type": "markdown",
   "metadata": {},
   "source": [
    "### Making more sense of the attributes variables counts...\n",
    "\n",
    "While it is useful to know the raw counts for each of the attributes variables under consideration, it would be more informative to know each variable's count within the businesses that are represented in the review.json file in the Yelp dataset, as the Yelp reviews stored in this file are at the crux of our analysis. It seems plausible that many of the attributes variables would be relatively more represented among review data.\n",
    "\n",
    "To better understand this idea, let's take a look at some of the data in the review and business tables."
   ]
  },
  {
   "cell_type": "code",
   "execution_count": null,
   "metadata": {},
   "outputs": [],
   "source": [
    "#First establish connection to PostGreSQL database with Yelp data\n",
    "dbname = 'Yelp'\n",
    "username = 'postgres'\n",
    "host = 'localhost'\n",
    "password = 'LimathaFaaltaThalik12?'\n",
    "\n",
    "conn = psycopg2.connect('dbname={} user={} host={} password={}'.format(dbname, username, host, password))\n",
    "cur = conn.cursor()"
   ]
  },
  {
   "cell_type": "code",
   "execution_count": null,
   "metadata": {},
   "outputs": [],
   "source": [
    "cur.execute(\"\"\"select column_name from information_schema.columns where table_name='review'\n",
    "\"\"\")\n",
    "result = cur.fetchall()\n",
    "review_columns = [result[i][0] for i in range(0, len(result))]\n",
    "cur.execute(\"\"\"select * from review LIMIT 10\n",
    "\"\"\")\n",
    "review_sample = pd.DataFrame(cur.fetchall(), columns=review_columns)\n",
    "blankIndex=[''] * len(review_sample)\n",
    "review_sample.index=blankIndex\n",
    "review_sample"
   ]
  },
  {
   "cell_type": "markdown",
   "metadata": {},
   "source": [
    "As shown above, the review table contains a field indicating the business_id of the business associated with the review. These unique business_ids can be summed to produce counts of the number of reviews per business recorded in the Yelp dataset. It is crucial to note that the business.json file includes a field called 'review_count,' but this does not correspond with the nnumber of times a review for a certain business was recorded in the Yelp dataset. As shown below, there are discrepancies between the total number of times a business has ever been reviewed (review_count or total_reviews), as of the collection date of the Yelp data, and the number of times a review for a business was recorded in the dataset. The differences do not appear too large, but the distinction is important."
   ]
  },
  {
   "cell_type": "code",
   "execution_count": null,
   "metadata": {},
   "outputs": [],
   "source": [
    "cur.execute(\"\"\"select review.business_id, count(distinct(review_id)) as number_of_reviews, review_count as total_reviews\n",
    "from review join business on review.business_id = business.business_id\n",
    "group by review.business_id, review_count limit 30\n",
    "\"\"\")\n",
    "\n",
    "sample_review_counts = pd.DataFrame(cur.fetchall(), columns = ['business_id', 'number_of_reviews', 'total_reviews'])\n",
    "blankIndex=[''] * len(sample_review_counts)\n",
    "sample_review_counts.index=blankIndex\n",
    "sample_review_counts"
   ]
  },
  {
   "cell_type": "markdown",
   "metadata": {},
   "source": [
    "### Calculating attributes variables counts based on representation in review data\n",
    "\n",
    "As alluded to above, it is only so useful to understand how many times the attributes variables appear in the business data, or in other words, the number of businesses with recorded values for the attributes variables. What is more important to know is how many times each attributes variable appears in association with a reviewed business in the review data. If business ABC has values recorded for the DogsAllowed and RestaurantsCounterService attributes variables and has 23 reviews in the review data, then these two attributes variables would add 23 to their counts.\n",
    "\n",
    "Below is code to calculate the number of times each attributes variable is recorded in connection with a reviewed business in the review data."
   ]
  },
  {
   "cell_type": "code",
   "execution_count": null,
   "metadata": {},
   "outputs": [],
   "source": [
    "#Extract all attributes variables (columns) and append to a list\n",
    "cur.execute(\"\"\"select column_name from information_schema.columns where table_name='attributes'\n",
    "\"\"\")\n",
    "result = cur.fetchall()\n",
    "attributes_columns = [result[i][0] for i in range(1, 50)]\n"
   ]
  },
  {
   "cell_type": "code",
   "execution_count": null,
   "metadata": {
    "scrolled": false
   },
   "outputs": [],
   "source": [
    "attributes_counts_reviews = []\n",
    "for x in attributes_columns:\n",
    "    cur.execute(\"\"\"select count({}), count(distinct(review.business_id)) from review join attributes on attributes.business_id = review.business_id where {} is not null\"\"\".format(x,x))\n",
    "    result = cur.fetchall()\n",
    "    attributes_counts_reviews.append([x,result[0][0],result[0][1]])"
   ]
  },
  {
   "cell_type": "code",
   "execution_count": null,
   "metadata": {
    "scrolled": true
   },
   "outputs": [],
   "source": [
    "#Add highlighting for cells < 50%\n",
    "counts = pd.DataFrame(attributes_counts_reviews, columns = ['Attribute', 'Attr. Count', 'Distinct Business Count'])\n",
    "counts['Attr. Count/Reviews'] = counts['Attr. Count']/6685900\n",
    "counts['Attr. Count/Reviews'] = pd.Series([\"{0:.2f}%\".format(val * 100) for val in counts['Attr. Count/Reviews']])\n",
    "counts['Distinct Business Count/Businesses'] = counts['Distinct Business Count']/192609\n",
    "counts['Distinct Business Count/Businesses'] = pd.Series([\"{0:.2f}%\".format(val * 100) for val in counts['Distinct Business Count/Businesses']])\n",
    "counts"
   ]
  },
  {
   "cell_type": "code",
   "execution_count": null,
   "metadata": {},
   "outputs": [],
   "source": [
    "df_list = []\n",
    "for x in attributes_columns:\n",
    "    cur.execute(\"\"\"select {}, stars from review join attributes on review.business_id = attributes.business_id where {} is not null\n",
    "    \"\"\".format(x,x))\n",
    "    df = pd.DataFrame(cur.fetchall(), columns = ['{}'.format(x), 'stars'])\n",
    "    df_list.append(df)"
   ]
  },
  {
   "cell_type": "code",
   "execution_count": null,
   "metadata": {},
   "outputs": [],
   "source": [
    "for i in range(0, len(df_list)):\n",
    "    d = df_list[i]\n",
    "    sns.violinplot(x ='{}'.format(df_list[i].columns[0]), y='stars', kind='swarm', inner=None, data=d).set_title('{}'.format(df_list[i].columns[0]))\n",
    "    plt.show()"
   ]
  }
 ],
 "metadata": {
  "kernelspec": {
   "display_name": "Python 3",
   "language": "python",
   "name": "python3"
  },
  "language_info": {
   "codemirror_mode": {
    "name": "ipython",
    "version": 3
   },
   "file_extension": ".py",
   "mimetype": "text/x-python",
   "name": "python",
   "nbconvert_exporter": "python",
   "pygments_lexer": "ipython3",
   "version": "3.7.1"
  }
 },
 "nbformat": 4,
 "nbformat_minor": 2
}
