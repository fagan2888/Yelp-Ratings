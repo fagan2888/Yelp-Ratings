import matplotlib.pyplot as plot
import pandas
import psycopg2
import numpy
from scipy import stats



conn = psycopg2.connect("dbname = 'yelp' user = 'postgres' password = '*INSERT YOUR PASSWORD*' host = 'localhost'")

cur = conn.cursor()

cur.execute("select stars from review")

results = cur.fetchall()

starsDF = pandas.DataFrame(results)

print("making all review histo")

pandas.DataFrame.hist(data=starsDF, bins=5)

print('starting reviews by category')


categories = ['Automotive_dummy']#, 'Active_life_dummy', 'Arts_and_Entertainment_dummy', 'Beauty_spa_dummy', 'Bicycle_dummy', 'Education_dummy', 'Event_planning_dummy', 'Financial_services', 'Food_dummy', 'Health_dummy', 'Home_service_dummy', 'Home_service_dummy', 'Hotel_dummy', 'Local_flavor_dummy', 'Local_services_dummy', 'Media_dummy', 'Nightlife_dummy', 'Pets_dummy', 'Professional_dummy', 'Government_dummy', 'Real_estate_dummy', 'Religious_dummy', 'Restaurant_dummy', 'Shopping_dummy', 'Null_dummy']


for category in categories:

            cur.execute("""
                        select review.stars from review, business
                        where business.business_id = review.business_id
                        and %s = 1
                                               
                        """ % category)
        
            results = cur.fetchall()
        
            stars_category_DF = pandas.DataFrame(results)
            pandas.DataFrame.hist(data=stars_category_DF, bins=5)
            plot.title(category)
            #plot.axvline(x=stars_category_DF.mean(), color='k', linestyle='dashed', linewidth=1)
            print(category)
            print("mean: %s" % stars_category_DF.mean())
            print("median: %s" % stars_category_DF.median())

