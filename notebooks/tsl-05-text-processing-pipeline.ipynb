{
 "cells": [
  {
   "cell_type": "markdown",
   "metadata": {},
   "source": [
    "# Build Yelp Review Corpus\n",
    "\n",
    "This notebook outlines the steps to load, preprocess, and clean yelp review text.\n",
    "\n",
    "It was heavily inspired by: https://towardsdatascience.com/a-practitioners-guide-to-natural-language-processing-part-i-processing-understanding-text-9f4abfd13e72"
   ]
  },
  {
   "cell_type": "code",
   "execution_count": 1,
   "metadata": {},
   "outputs": [],
   "source": [
    "import psycopg2\n",
    "import nltk\n",
    "import unicodedata\n",
    "import pandas as pd\n",
    "import pprint\n",
    "import pickle\n",
    "import re\n",
    "import os\n",
    "\n",
    "pp = pprint.PrettyPrinter(indent=4).pprint\n",
    "\n",
    "data_dir = '/home/tlappas/data_science/Yelp-Ratings/data/processed'"
   ]
  },
  {
   "cell_type": "markdown",
   "metadata": {},
   "source": [
    "## Move to ./Yelp-Ratings/data/corpus folder"
   ]
  },
  {
   "cell_type": "markdown",
   "metadata": {},
   "source": [
    "...This needs to be fixed. Breaks if run more than once.\n",
    "\n",
    "path = os.getcwd()\n",
    "print('Notebook path: {}'.format(path))\n",
    "\n",
    "os.chdir('..')\n",
    "data_path = os.path.join(os.getcwd(), 'corpus')\n",
    "print('Corpus path: {}'.format(data_path))\n",
    "\n",
    "if os.path.exists(data_path) == False:\n",
    "    os.mkdir(data_path)\n",
    "\n",
    "os.chdir(data_path)"
   ]
  },
  {
   "cell_type": "markdown",
   "metadata": {},
   "source": [
    "## Get Data\n",
    "\n",
    "Text is stored in yelp db. Query and store in a pandas DataFrame."
   ]
  },
  {
   "cell_type": "code",
   "execution_count": 2,
   "metadata": {},
   "outputs": [],
   "source": [
    "conn = psycopg2.connect('dbname=yelp user=tlappas host=/var/run/postgresql')\n",
    "cur = conn.cursor()\n",
    "cur.execute(\"\"\"\n",
    "    SELECT * FROM review LIMIT 10\n",
    "\"\"\")\n",
    "\n",
    "cols = ['review_id', 'user_id', 'business_id', 'stars', 'review_date', 'review_text', 'useful', 'funny', 'cool']\n",
    "\n",
    "data = pd.DataFrame(cur.fetchall(), columns=cols)"
   ]
  },
  {
   "cell_type": "markdown",
   "metadata": {},
   "source": [
    "### Example Instance"
   ]
  },
  {
   "cell_type": "code",
   "execution_count": 3,
   "metadata": {},
   "outputs": [
    {
     "name": "stdout",
     "output_type": "stream",
     "text": [
      "DataFrame shape: (10, 9)\n",
      "\n",
      "First instance: \n",
      "\n",
      "review_id                                 Q1sbwvVQXV2734tPgoKj4Q\n",
      "user_id                                   hG7b0MtEbXx5QzbzE6C_VA\n",
      "business_id                               ujmEBvifdJM6h6RLv4wQIg\n",
      "stars                                                          1\n",
      "review_date                                           2013-05-07\n",
      "review_text    Total bill for this horrible service? Over $8G...\n",
      "useful                                                         6\n",
      "funny                                                          1\n",
      "cool                                                           0\n",
      "Name: 0, dtype: object\n"
     ]
    }
   ],
   "source": [
    "print('DataFrame shape: {}\\n'.format(data.shape))\n",
    "print('First instance: \\n')\n",
    "print(data.loc[0])"
   ]
  },
  {
   "cell_type": "markdown",
   "metadata": {},
   "source": [
    "## Example Review"
   ]
  },
  {
   "cell_type": "code",
   "execution_count": 4,
   "metadata": {},
   "outputs": [
    {
     "name": "stdout",
     "output_type": "stream",
     "text": [
      "I *adore* Travis at the Hard Rock's new Kelly Cardenas Salon!  I'm always a fan of a great blowout and no stranger to the chains that offer this service; however, Travis has taken the flawless blowout to a whole new level!  \n",
      "\n",
      "Travis's greets you with his perfectly green swoosh in his otherwise perfectly styled black hair and a Vegas-worthy rockstar outfit.  Next comes the most relaxing and incredible shampoo -- where you get a full head message that could cure even the very worst migraine in minutes --- and the scented shampoo room.  Travis has freakishly strong fingers (in a good way) and use the perfect amount of pressure.  That was superb!  Then starts the glorious blowout... where not one, not two, but THREE people were involved in doing the best round-brush action my hair has ever seen.  The team of stylists clearly gets along extremely well, as it's evident from the way they talk to and help one another that it's really genuine and not some corporate requirement.  It was so much fun to be there! \n",
      "\n",
      "Next Travis started with the flat iron.  The way he flipped his wrist to get volume all around without over-doing it and making me look like a Texas pagent girl was admirable.  It's also worth noting that he didn't fry my hair -- something that I've had happen before with less skilled stylists.  At the end of the blowout & style my hair was perfectly bouncey and looked terrific.  The only thing better?  That this awesome blowout lasted for days! \n",
      "\n",
      "Travis, I will see you every single time I'm out in Vegas.  You make me feel beauuuutiful!\n"
     ]
    }
   ],
   "source": [
    "print(data.loc[1, 'review_text'])"
   ]
  },
  {
   "cell_type": "markdown",
   "metadata": {},
   "source": [
    "## Basic Text Pre-Preprocessing\n",
    "\n",
    "1. Remove any non-ASCII characters\n",
    "2. Replace any characters that aren't alphanumeric/whitespace/\"'\"\n",
    "3. Convert all letters to lowercase\n",
    "4. Replace whitespace with ' '."
   ]
  },
  {
   "cell_type": "code",
   "execution_count": 5,
   "metadata": {},
   "outputs": [],
   "source": [
    "for i, text in enumerate(data.loc[:,'review_text']):\n",
    "\n",
    "    text = unicodedata.normalize('NFKD', text).encode('ascii', 'ignore').decode('utf8', 'ignore')\n",
    "    text = re.sub(r\"[^A-Za-z0-9\\s']\", '', text)\n",
    "    text = text.lower()\n",
    "    text = re.sub(r'[\\n|\\r|\\n\\r|\\r\\n]', ' ', text)\n",
    "    data.loc[i,'review_text'] = text"
   ]
  },
  {
   "cell_type": "code",
   "execution_count": 6,
   "metadata": {},
   "outputs": [
    {
     "name": "stdout",
     "output_type": "stream",
     "text": [
      "i adore travis at the hard rock's new kelly cardenas salon  i'm always a fan of a great blowout and no stranger to the chains that offer this service however travis has taken the flawless blowout to a whole new level    travis's greets you with his perfectly green swoosh in his otherwise perfectly styled black hair and a vegasworthy rockstar outfit  next comes the most relaxing and incredible shampoo  where you get a full head message that could cure even the very worst migraine in minutes  and the scented shampoo room  travis has freakishly strong fingers in a good way and use the perfect amount of pressure  that was superb  then starts the glorious blowout where not one not two but three people were involved in doing the best roundbrush action my hair has ever seen  the team of stylists clearly gets along extremely well as it's evident from the way they talk to and help one another that it's really genuine and not some corporate requirement  it was so much fun to be there   next travis started with the flat iron  the way he flipped his wrist to get volume all around without overdoing it and making me look like a texas pagent girl was admirable  it's also worth noting that he didn't fry my hair  something that i've had happen before with less skilled stylists  at the end of the blowout  style my hair was perfectly bouncey and looked terrific  the only thing better  that this awesome blowout lasted for days   travis i will see you every single time i'm out in vegas  you make me feel beauuuutiful\n"
     ]
    }
   ],
   "source": [
    "print(data.loc[1,'review_text'])"
   ]
  },
  {
   "cell_type": "markdown",
   "metadata": {},
   "source": [
    "## Save Corpus - Cleaned Text"
   ]
  },
  {
   "cell_type": "code",
   "execution_count": 7,
   "metadata": {},
   "outputs": [],
   "source": [
    "processing = ['ascii-only', 'whitespace alphanumeric only', 'lowercase', 'remove whitespace chars']\n",
    "with open(os.path.join(data_dir, 'reviews-clean.pkl'), 'wb') as f:\n",
    "    pickle.dump([data, processing], f)"
   ]
  },
  {
   "cell_type": "markdown",
   "metadata": {},
   "source": [
    "## Remove Stopwords"
   ]
  },
  {
   "cell_type": "code",
   "execution_count": 8,
   "metadata": {},
   "outputs": [],
   "source": [
    "stops = nltk.corpus.stopwords.words('english')\n",
    "\n",
    "for i, text in enumerate(data.loc[:,'review_text']):\n",
    "    text = [word for word in text.split() if word not in stops]\n",
    "    text = ' '.join(text)\n",
    "    data.loc[i,'review_text'] = text"
   ]
  },
  {
   "cell_type": "code",
   "execution_count": 9,
   "metadata": {},
   "outputs": [
    {
     "name": "stdout",
     "output_type": "stream",
     "text": [
      "adore travis hard rock's new kelly cardenas salon i'm always fan great blowout stranger chains offer service however travis taken flawless blowout whole new level travis's greets perfectly green swoosh otherwise perfectly styled black hair vegasworthy rockstar outfit next comes relaxing incredible shampoo get full head message could cure even worst migraine minutes scented shampoo room travis freakishly strong fingers good way use perfect amount pressure superb starts glorious blowout one two three people involved best roundbrush action hair ever seen team stylists clearly gets along extremely well evident way talk help one another really genuine corporate requirement much fun next travis started flat iron way flipped wrist get volume around without overdoing making look like texas pagent girl admirable also worth noting fry hair something i've happen less skilled stylists end blowout style hair perfectly bouncey looked terrific thing better awesome blowout lasted days travis see every single time i'm vegas make feel beauuuutiful\n"
     ]
    }
   ],
   "source": [
    "print(data.loc[1,'review_text'])"
   ]
  },
  {
   "cell_type": "markdown",
   "metadata": {},
   "source": [
    "## Save Corpus - Cleaned + No Stopwords"
   ]
  },
  {
   "cell_type": "code",
   "execution_count": 10,
   "metadata": {},
   "outputs": [],
   "source": [
    "processing.append('no stopwords')\n",
    "with open(os.path.join(data_dir, 'reviews-clean-nostop.pkl'), 'wb') as f:\n",
    "    pickle.dump([data, processing], f)"
   ]
  },
  {
   "cell_type": "markdown",
   "metadata": {},
   "source": [
    "## Lemmatize Text\n",
    "\n",
    "The wordnet lemmatizer only lemmatizes a single pos at a time. Default pos param is 'N' (noun). [Set of pos tags](https://www.ling.upenn.edu/courses/Fall_2003/ling001/penn_treebank_pos.html).\n",
    "\n",
    "[Here's an example](https://www.machinelearningplus.com/nlp/lemmatization-examples-python/#wordnetlemmatizerwithappropriatepostag) that ties in the nltk pos tagger to identify the pos, then use the lemmatizer to lem just that type. Which will save a huge amount of time, since it won't need to go through every one.\n",
    "\n",
    "[Wordnet documentation](http://www.nltk.org/howto/wordnet.html)"
   ]
  },
  {
   "cell_type": "code",
   "execution_count": 11,
   "metadata": {},
   "outputs": [],
   "source": [
    "wnl = nltk.WordNetLemmatizer()\n",
    "\n",
    "for i, text in enumerate(data.loc[:,'review_text']):\n",
    "    text = text.split()\n",
    "    text = [wnl.lemmatize(word, pos='n') for word in text]\n",
    "    text = [wnl.lemmatize(word, pos='v') for word in text]\n",
    "    text = [wnl.lemmatize(word, pos='a') for word in text]\n",
    "    text = [wnl.lemmatize(word, pos='r') for word in text]\n",
    "    text = ' '.join(text)\n",
    "    data.loc[i,'review_text'] = text"
   ]
  },
  {
   "cell_type": "code",
   "execution_count": 12,
   "metadata": {},
   "outputs": [
    {
     "name": "stdout",
     "output_type": "stream",
     "text": [
      "adore travis hard rock's new kelly cardenas salon i'm always fan great blowout strange chain offer service however travis take flawless blowout whole new level travis's greet perfectly green swoosh otherwise perfectly style black hair vegasworthy rockstar outfit next come relax incredible shampoo get full head message could cure even bad migraine minute scent shampoo room travis freakishly strong finger good way use perfect amount pressure superb start glorious blowout one two three people involve best roundbrush action hair ever see team stylist clearly get along extremely well evident way talk help one another really genuine corporate requirement much fun next travis start flat iron way flip wrist get volume around without overdo make look like texas pagent girl admirable also worth note fry hair something i've happen le skilled stylist end blowout style hair perfectly bouncey look terrific thing good awesome blowout last day travis see every single time i'm vega make feel beauuuutiful\n"
     ]
    }
   ],
   "source": [
    "print(data.loc[1,'review_text'])"
   ]
  },
  {
   "cell_type": "markdown",
   "metadata": {},
   "source": [
    "## Save Corpus - Cleaned + No Stopwords + Lemmatized"
   ]
  },
  {
   "cell_type": "code",
   "execution_count": 13,
   "metadata": {},
   "outputs": [],
   "source": [
    "processing.append('lemmatize: NVJR')\n",
    "with open(os.path.join(data_dir, 'reviews-clean-nostop-lemmed.pkl'), 'wb') as f:\n",
    "    pickle.dump([data, processing], f)"
   ]
  },
  {
   "cell_type": "code",
   "execution_count": null,
   "metadata": {},
   "outputs": [],
   "source": []
  }
 ],
 "metadata": {
  "kernelspec": {
   "display_name": "Python 3",
   "language": "python",
   "name": "python3"
  },
  "language_info": {
   "codemirror_mode": {
    "name": "ipython",
    "version": 3
   },
   "file_extension": ".py",
   "mimetype": "text/x-python",
   "name": "python",
   "nbconvert_exporter": "python",
   "pygments_lexer": "ipython3",
   "version": "3.7.3"
  }
 },
 "nbformat": 4,
 "nbformat_minor": 2
}
