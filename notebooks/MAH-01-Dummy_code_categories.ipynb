
ALTER TABLE business 
ADD COLUMN Automotive_dummy integer,
ADD COLUMN Active_life_dummy integer,
ADD COLUMN Arts_and_Entertainment_dummy integer,
ADD COLUMN Beauty_spa_dummy integer,
ADD COLUMN Bicycle_dummy integer,
ADD COLUMN Education_dummy integer,
ADD COLUMN Event_planning_dummy integer,
ADD COLUMN Financial_services integer,
ADD COLUMN Food_dummy integer,
ADD COLUMN Health_dummy integer,
ADD COLUMN Home_service_dummy integer,
ADD COLUMN Hotel_dummy integer,
ADD COLUMN Local_flavor_dummy integer,
ADD COLUMN Local_services_dummy integer,
ADD COLUMN Media_dummy integer,
ADD COLUMN Nightlife_dummy integer,
ADD COLUMN Pets_dummy integer,
ADD COLUMN Professional_dummy integer,
ADD COLUMN Government_dummy integer,
ADD COLUMN Real_estate_dummy integer,
ADD COLUMN Religious_dummy integer,
ADD COLUMN Restaurant_dummy integer,
ADD COLUMN Shopping_dummy integer,
ADD COLUMN Null_dummy integer; commit;


UPDATE business
SET Automotive_dummy =
CASE
	WHEN business.categories LIKE '%Automotive%' 
	THEN 1
	ELSE 0
END; commit;


UPDATE business
SET Active_life_dummy =
CASE
	WHEN business.categories LIKE '%Active Life%' 
	THEN 1
	ELSE 0
END; commit;


UPDATE business
SET Arts_and_Entertainment_dummy =
CASE
	WHEN business.categories LIKE '%Arts & Entertainment%' 
	THEN 1
	ELSE 0
END; commit;


UPDATE business
SET Beauty_spa_dummy =
CASE
	WHEN business.categories LIKE '%Beauty & Spas%' 
	THEN 1
	ELSE 0
END; commit;


UPDATE business
SET Bicycle_dummy =
CASE
	WHEN business.categories LIKE '%Bicycles%' 
	THEN 1
	ELSE 0
END; commit;


UPDATE business
SET Education_dummy =
CASE
	WHEN business.categories LIKE '%Education%' 
	THEN 1
	ELSE 0
END; commit;


UPDATE business
SET Event_planning_dummy =
CASE
	WHEN business.categories LIKE '%Event Planning & Services%' 
	THEN 1
	ELSE 0
END; commit;


UPDATE business
SET Financial_services =
CASE
	WHEN business.categories LIKE '%Financial Services%' 
	THEN 1
	ELSE 0
END; commit;

	
UPDATE business
SET Food_dummy =
CASE
	WHEN business.categories LIKE '%, Food,%'
	OR business.categories LIKE 'Food,%'
	OR business.categories LIKE '%, Food'
	OR business.categories = 'Food' 
	THEN 1
	ELSE 0
END; commit;


UPDATE business
SET Health_dummy =
CASE
	WHEN business.categories LIKE '%Health & Medical%' 
	THEN 1
	ELSE 0
END; commit;


UPDATE business
SET Home_service_dummy =
CASE
	WHEN business.categories LIKE '%Home Services%' 
	THEN 1
	ELSE 0
END; commit;


UPDATE business
SET Hotel_dummy =
CASE
	WHEN business.categories LIKE '%Hotels & Travel%' 
	THEN 1
	ELSE 0
END; commit;


UPDATE business
SET Local_flavor_dummy =
CASE
	WHEN business.categories LIKE '%Local Flavor%' 
	THEN 1
	ELSE 0
END; commit;


UPDATE business
SET Local_services_dummy =
CASE
	WHEN business.categories LIKE '%Local Services%' 
	THEN 1
	ELSE 0
END; commit;


UPDATE business
SET Media_dummy =
CASE
	WHEN business.categories LIKE '%Mass Media%' 
	THEN 1
	ELSE 0
END; commit;


UPDATE business
SET Nightlife_dummy =
CASE
	WHEN business.categories LIKE '%Nightlife%' 
	THEN 1
	ELSE 0
END; commit;


UPDATE business
SET Pets_dummy =
CASE
	WHEN business.categories LIKE '%Pets%' 
	THEN 1
	ELSE 0
END; commit;


UPDATE business
SET Professional_dummy =
CASE
	WHEN business.categories LIKE '%Professional Services%' 
	THEN 1
	ELSE 0
END; commit;


UPDATE business
SET Government_dummy =
CASE
	WHEN business.categories LIKE '%Public Services & Government%' 
	THEN 1
	ELSE 0
END; commit;


UPDATE business
SET Real_estate_dummy =
CASE
	WHEN business.categories LIKE 'Real Estate,%' 
	OR business.categories LIKE '%, Real Estate'
	OR business.categories LIKE '%, Real Estate,%'
	OR busienss.categories = 'Real Estate'
	THEN 1
	ELSE 0
END; commit;


UPDATE business
SET Religious_dummy =
CASE
	WHEN business.categories LIKE '%Religious Organizations%' 
	THEN 1
	ELSE 0
END; commit;


UPDATE business
SET Restaurant_dummy =
CASE
	WHEN business.categories LIKE '%, Restaurants,%' 
	OR business.categories LIKE 'Restaurants,%'
	OR business.categories LIKE '%, Restaurants'
	OR business.categories = 'Restaurants'
	THEN 1
	ELSE 0
END; commit;


UPDATE business
SET Shopping_dummy =
CASE
	WHEN business.categories LIKE '%, Shopping,%'
	OR business.categories LIKE 'Shopping,%'
	OR business.categories LIKE '%, Shopping'
	OR business.categories = 'Shopping'
	THEN 1
	ELSE 0
END; commit;

UPDATE business
SET Null_dummy =
CASE
	WHEN business.categories is null
	Then 1
	ELSE 0
END; commit;
