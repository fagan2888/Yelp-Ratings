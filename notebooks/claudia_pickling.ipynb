{
 "cells": [
  {
   "cell_type": "code",
   "execution_count": null,
   "metadata": {},
   "outputs": [],
   "source": [
    "import numpy as np\n",
    "import os\n",
    "import pickle\n",
    "from sklearn.linear_model import LogisticRegression\n",
    "from yellowbrick.model_selection import ValidationCurve\n",
    "from sklearn.feature_extraction.text import TfidfVectorizer\n",
    "from sklearn.model_selection import train_test_split"
   ]
  },
  {
   "cell_type": "code",
   "execution_count": null,
   "metadata": {},
   "outputs": [],
   "source": [
    "#set the path leading to the data file I sent out '1_234_5_balanced_data.pkl'\n",
    "data_path = ''\n",
    "with open(os.path.join(data_path, '1_234_5_balanced_data.pkl'), 'rb') as f:\n",
    "    pickled_data = pickle.load(f)\n",
    "    data = pickled_data[0]"
   ]
  },
  {
   "cell_type": "code",
   "execution_count": null,
   "metadata": {},
   "outputs": [],
   "source": [
    "#Run this super fast to make sure that remapped labels are indeed balanced properly.. all counts should be equal\n",
    "data.stars.value_counts()"
   ]
  },
  {
   "cell_type": "code",
   "execution_count": null,
   "metadata": {},
   "outputs": [],
   "source": [
    "def split(all_data, labels, prop_test = 0.3, make_arrays=True, save_data=False):\n",
    "    [x_train, x_test, y_train, y_test] = train_test_split(all_data, labels, test_size=prop_test, stratify=labels)\n",
    "\n",
    "    if make_arrays:\n",
    "        if 'DataFrame' in str(type(all_data)) or 'Series' in str(type(all_data)):\n",
    "            x_train = x_train.to_numpy()\n",
    "            x_test = x_test.to_numpy()\n",
    "        if 'DataFrame' in str(type(labels)) or 'Series' in str(type(labels)):\n",
    "            y_train = y_train.to_numpy()\n",
    "            y_test = y_test.to_numpy()\n",
    "\n",
    "    if save_data:\n",
    "        with open('train.pkl', 'wb') as f:\n",
    "            pickle.dump([x_train, y_train], f)\n",
    "        with open('test.pkl', 'wb') as f:\n",
    "            pickle.dump([x_test, y_test], f)\n",
    "\n",
    "    return [x_train, x_test, y_train, y_test]"
   ]
  },
  {
   "cell_type": "code",
   "execution_count": null,
   "metadata": {},
   "outputs": [],
   "source": [
    "#Split data 80/20 into train & test files\n",
    "[x_train, x_test, y_train, y_test] = split(data.loc[:,'processed_text'], data.loc[:,'stars'], prop_test = 0.2, save_data=False, make_arrays=False)"
   ]
  },
  {
   "cell_type": "code",
   "execution_count": null,
   "metadata": {},
   "outputs": [],
   "source": [
    "#Make sure x_test was created properly\n",
    "x_test.shape"
   ]
  },
  {
   "cell_type": "code",
   "execution_count": null,
   "metadata": {},
   "outputs": [],
   "source": [
    "#Make sure x_train was created properly\n",
    "x_train.shape"
   ]
  },
  {
   "cell_type": "code",
   "execution_count": null,
   "metadata": {},
   "outputs": [],
   "source": [
    "print('Fitting tfidfer to x_train')\n",
    "tfidfer = TfidfVectorizer(ngram_range=(1,2)).fit(x_train)\n",
    "print('Finished fitting tfidfer to x_train')\n",
    "print('Transforming x_train with tfidfer')\n",
    "x_train = tfidfer.transform(x_train)\n",
    "print('Finished transforming x_train')\n",
    "print('Transforming x_test with tfidfer')\n",
    "x_test = tfidfer.transform(x_test)\n",
    "print('Finished transforming x_test')"
   ]
  },
  {
   "cell_type": "code",
   "execution_count": null,
   "metadata": {},
   "outputs": [],
   "source": [
    "#Check that x_train was created properly (should be sparse matrix)\n",
    "x_train"
   ]
  },
  {
   "cell_type": "code",
   "execution_count": null,
   "metadata": {},
   "outputs": [],
   "source": [
    "#Check that x_test was created properly (should be sparse matrix)\n",
    "x_test"
   ]
  },
  {
   "cell_type": "code",
   "execution_count": null,
   "metadata": {},
   "outputs": [],
   "source": [
    "#Note that this will save the tfidfed data to the data_path you specified at the beginning of the notebook\n",
    "print('Saving the TF-IDFed data\\n')\n",
    "pickle.dump([x_train, y_train], open(os.path.join(data_path, '1_234_5_tfidfed_train.pkl'), 'wb'))\n",
    "pickle.dump([x_test, y_test], open(os.path.join(data_path, '1_234_5_tfidfed_test.pkl'), 'wb'))\n",
    "print('Data saved in pickle files')"
   ]
  }
 ],
 "metadata": {
  "kernelspec": {
   "display_name": "Python 3",
   "language": "python",
   "name": "python3"
  },
  "language_info": {
   "codemirror_mode": {
    "name": "ipython",
    "version": 3
   },
   "file_extension": ".py",
   "mimetype": "text/x-python",
   "name": "python",
   "nbconvert_exporter": "python",
   "pygments_lexer": "ipython3",
   "version": "3.7.1"
  }
 },
 "nbformat": 4,
 "nbformat_minor": 2
}
