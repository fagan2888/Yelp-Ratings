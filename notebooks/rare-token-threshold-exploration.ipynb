{
 "cells": [
  {
   "cell_type": "code",
   "execution_count": null,
   "metadata": {},
   "outputs": [],
   "source": [
    "import pickle\n",
    "import pandas as pd\n",
    "#If you want to display more rows in your rare tokens dataframe, adjust the 2000 number below to a higher number\n",
    "pd.set_option('display.max_rows', 2000)\n",
    "import os"
   ]
  },
  {
   "cell_type": "code",
   "execution_count": null,
   "metadata": {},
   "outputs": [],
   "source": [
    "#Input the path leading to where you saved the pickled rare tokens files I sent you\n",
    "#I assume you saved them all in the same path, below\n",
    "#For example, my path is '/Users/alice.naghshineh/Desktop/pickled_data/threshold_analysis'\n",
    "data_dir = ''"
   ]
  },
  {
   "cell_type": "code",
   "execution_count": null,
   "metadata": {},
   "outputs": [],
   "source": [
    "with open(data_dir + os.sep + 'batch1_rare_tokens_5.pkl', 'rb') as f:\n",
    "    pickled_data = pickle.load(f)\n",
    "rare_tokens_5 = pickled_data\n",
    "rare_tokens_5"
   ]
  },
  {
   "cell_type": "code",
   "execution_count": null,
   "metadata": {},
   "outputs": [],
   "source": [
    "with open(data_dir + os.sep + 'batch1_rare_tokens_10.pkl', 'rb') as f:\n",
    "    pickled_data = pickle.load(f)\n",
    "rare_tokens_10 = pickled_data\n",
    "rare_tokens_10"
   ]
  },
  {
   "cell_type": "code",
   "execution_count": null,
   "metadata": {},
   "outputs": [],
   "source": [
    "with open(data_dir + os.sep + 'batch1_rare_tokens_15.pkl', 'rb') as f:\n",
    "    pickled_data = pickle.load(f)\n",
    "rare_tokens_15 = pickled_data\n",
    "rare_tokens_15"
   ]
  },
  {
   "cell_type": "code",
   "execution_count": null,
   "metadata": {},
   "outputs": [],
   "source": [
    "with open(data_dir + os.sep + 'batch1_rare_tokens_20.pkl', 'rb') as f:\n",
    "    pickled_data = pickle.load(f)\n",
    "rare_tokens_20 = pickled_data\n",
    "rare_tokens_20"
   ]
  }
 ],
 "metadata": {
  "kernelspec": {
   "display_name": "Python 3",
   "language": "python",
   "name": "python3"
  },
  "language_info": {
   "codemirror_mode": {
    "name": "ipython",
    "version": 3
   },
   "file_extension": ".py",
   "mimetype": "text/x-python",
   "name": "python",
   "nbconvert_exporter": "python",
   "pygments_lexer": "ipython3",
   "version": "3.7.1"
  }
 },
 "nbformat": 4,
 "nbformat_minor": 2
}
